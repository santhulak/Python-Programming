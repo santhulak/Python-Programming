{
 "cells": [
  {
   "cell_type": "markdown",
   "metadata": {},
   "source": [
    "# Python Programming"
   ]
  },
  {
   "cell_type": "markdown",
   "metadata": {},
   "source": [
    "#Python is a popular programming language. \n",
    "#Python is a great language for the beginner-level programmers.\n",
    "#Python is a high-level, interpreted, interactive, object-oriented scripting language."
   ]
  },
  {
   "cell_type": "markdown",
   "metadata": {},
   "source": [
    "# Python Print Commands"
   ]
  },
  {
   "cell_type": "markdown",
   "metadata": {},
   "source": [
    "Print simple string"
   ]
  },
  {
   "cell_type": "code",
   "execution_count": 1,
   "metadata": {},
   "outputs": [
    {
     "name": "stdout",
     "output_type": "stream",
     "text": [
      "Welcome to Python Programming\n"
     ]
    }
   ],
   "source": [
    "print (\"Welcome to Python Programming\")"
   ]
  },
  {
   "cell_type": "markdown",
   "metadata": {},
   "source": [
    "Print Blank Lines"
   ]
  },
  {
   "cell_type": "code",
   "execution_count": 2,
   "metadata": {},
   "outputs": [
    {
     "name": "stdout",
     "output_type": "stream",
     "text": [
      "\n",
      "\n",
      "\n",
      "\n",
      "\n",
      "\n",
      "\n",
      "\n",
      "\n",
      "\n"
     ]
    }
   ],
   "source": [
    "print (\"\\n\\n\\n\\n\\n\\n\\n\\n\\n\")"
   ]
  },
  {
   "cell_type": "markdown",
   "metadata": {},
   "source": [
    "Print 5 Blank Lines"
   ]
  },
  {
   "cell_type": "code",
   "execution_count": 3,
   "metadata": {},
   "outputs": [
    {
     "name": "stdout",
     "output_type": "stream",
     "text": [
      "\n",
      "\n",
      "\n",
      "\n",
      "\n",
      "\n"
     ]
    }
   ],
   "source": [
    "print (5 * \"\\n\")"
   ]
  },
  {
   "cell_type": "markdown",
   "metadata": {},
   "source": [
    "Print end Command"
   ]
  },
  {
   "cell_type": "code",
   "execution_count": 4,
   "metadata": {},
   "outputs": [
    {
     "name": "stdout",
     "output_type": "stream",
     "text": [
      "Welcome to Python Programming!"
     ]
    }
   ],
   "source": [
    "print (\"Welcome to\", end = ' ') \n",
    "print (\"Python Programming\", end = '!')"
   ]
  },
  {
   "cell_type": "code",
   "execution_count": 5,
   "metadata": {},
   "outputs": [
    {
     "name": "stdout",
     "output_type": "stream",
     "text": [
      "range(0, 5)\n"
     ]
    }
   ],
   "source": [
    "print(range(5))"
   ]
  },
  {
   "cell_type": "code",
   "execution_count": 6,
   "metadata": {},
   "outputs": [
    {
     "name": "stdout",
     "output_type": "stream",
     "text": [
      "<class 'range'>\n"
     ]
    }
   ],
   "source": [
    "print(type(range(5)))"
   ]
  },
  {
   "cell_type": "markdown",
   "metadata": {},
   "source": [
    "# Python Operators"
   ]
  },
  {
   "cell_type": "markdown",
   "metadata": {},
   "source": [
    "Arithmetic Operators perform various arithmetic calculations like addition, subtraction, multiplication, division, %modulus, exponent, etc. "
   ]
  },
  {
   "cell_type": "code",
   "execution_count": 7,
   "metadata": {},
   "outputs": [
    {
     "name": "stdout",
     "output_type": "stream",
     "text": [
      "15\n",
      "5\n",
      "50\n",
      "2.0\n",
      "0\n",
      "100000\n"
     ]
    }
   ],
   "source": [
    "x= 10\n",
    "y= 5\n",
    "print (x + y)\n",
    "print (x - y)\n",
    "print (x * y)\n",
    "print (x / y)\n",
    "print (x % y)\n",
    "print (x ** y)"
   ]
  },
  {
   "cell_type": "markdown",
   "metadata": {},
   "source": [
    "Comparison Operators compare the values on either side of the operand and determine the relation between them.\n",
    "comparison operators are  ==, != , <, >,<=,<="
   ]
  },
  {
   "cell_type": "code",
   "execution_count": 8,
   "metadata": {},
   "outputs": [
    {
     "name": "stdout",
     "output_type": "stream",
     "text": [
      "x > y  is False\n",
      "x >= y  is False\n",
      "x < y  is True\n",
      "x <= y  is True\n",
      "x == y  is False\n",
      "x != y  is True\n"
     ]
    }
   ],
   "source": [
    "x = 20\n",
    "y = 50\n",
    "print('x > y  is',x>y)\n",
    "print('x >= y  is',x>=y)\n",
    "print('x < y  is',x<y)\n",
    "print('x <= y  is',x<=y)\n",
    "print('x == y  is',x==y)\n",
    "print('x != y  is',x!=y)\n",
    "\n",
    "\n"
   ]
  },
  {
   "cell_type": "markdown",
   "metadata": {},
   "source": [
    "Python assignment operators are used for assigning the value of the right operand to the left operand. \n",
    "Various assignment operators used in Python are +=, - = , *=, /= ,="
   ]
  },
  {
   "cell_type": "code",
   "execution_count": 9,
   "metadata": {},
   "outputs": [
    {
     "name": "stdout",
     "output_type": "stream",
     "text": [
      "First Number :  13\n",
      "First Number :  130\n",
      "Second number : 5.666666666666667\n"
     ]
    }
   ],
   "source": [
    "firstnumber = 13\n",
    "secondnumber = 17\n",
    "print (\"First Number : \", firstnumber)\n",
    "firstnumber *= 10\n",
    "print (\"First Number : \", firstnumber)\n",
    "secondnumber /= 3\n",
    "print(\"Second number :\" , secondnumber)"
   ]
  },
  {
   "cell_type": "markdown",
   "metadata": {},
   "source": [
    "Logical operators in Python are used for conditional statements are true or false.\n",
    "Logical operators in Python are AND, OR and NOT."
   ]
  },
  {
   "cell_type": "code",
   "execution_count": 10,
   "metadata": {},
   "outputs": [
    {
     "name": "stdout",
     "output_type": "stream",
     "text": [
      "False\n",
      "True\n",
      "False\n"
     ]
    }
   ],
   "source": [
    "x = True\n",
    "y = False\n",
    "print(x and y)\n",
    "print(x or y)\n",
    "print(not x)"
   ]
  },
  {
   "cell_type": "markdown",
   "metadata": {},
   "source": [
    "Membership Operators test for membership in a sequence such as lists, strings or tuples. Membership operators used in Python is  in, not in"
   ]
  },
  {
   "cell_type": "markdown",
   "metadata": {},
   "source": [
    "Identity Operators is to compare the memory location of two objects, The two identify operators used in Python are is, is not."
   ]
  },
  {
   "cell_type": "markdown",
   "metadata": {},
   "source": [
    "# String Functions"
   ]
  },
  {
   "cell_type": "code",
   "execution_count": 11,
   "metadata": {},
   "outputs": [
    {
     "name": "stdout",
     "output_type": "stream",
     "text": [
      "WELCOME TO PYTHON PROGRAMMING\n",
      "welcome to python programming\n",
      "Welcome To Python Programming\n",
      "Welcome to python programming\n",
      "Welcome to python programming\n",
      "Welcome to python programming\n",
      "18\n",
      "Welcome to phython phrogramming\n",
      "True\n",
      "False\n",
      "True\n"
     ]
    }
   ],
   "source": [
    "# String Methods\n",
    "message = \"Welcome to python programming\"\n",
    "\n",
    "#print (object.function)\n",
    "print(message.upper())\n",
    "print(message.lower())\n",
    "print(message.title())\n",
    "\n",
    "#Trim methods\n",
    "messagetrim = \"  python programming  \"\n",
    "\n",
    "print(message.strip())\n",
    "print(message.rstrip())\n",
    "print(message.lstrip())\n",
    "\n",
    "print(message.find(\"pro\"))\n",
    "print(message.replace('p','ph'))\n",
    "#membership operator\n",
    "\n",
    "print(\"prog\" in message)\n",
    "print(\"json\" in message)\n",
    "print(\"json\" not in message)"
   ]
  },
  {
   "cell_type": "code",
   "execution_count": 12,
   "metadata": {},
   "outputs": [
    {
     "name": "stdout",
     "output_type": "stream",
     "text": [
      "29\n",
      "W\n",
      "g\n",
      "Welco\n",
      "Welcome to python programming\n",
      "Welco\n",
      "Welcome to python programming\n"
     ]
    }
   ],
   "source": [
    "#Slicing Functions\n",
    "Message = \"Welcome to python programming\"\n",
    "\n",
    "print(len(message))\n",
    "print(message[0])\n",
    "print(message[-1])\n",
    "print(message[0:5])\n",
    "print(message[0:])\n",
    "print(message[:5])\n",
    "print(message[:])"
   ]
  },
  {
   "cell_type": "markdown",
   "metadata": {},
   "source": [
    "# Conditional Statements"
   ]
  },
  {
   "cell_type": "code",
   "execution_count": 13,
   "metadata": {},
   "outputs": [
    {
     "name": "stdout",
     "output_type": "stream",
     "text": [
      "Eligible to drive\n"
     ]
    }
   ],
   "source": [
    "age=20\n",
    "if age>=18 and age<60 :\n",
    "    print(\"Eligible to drive\")\n",
    "else :\n",
    "    print(\"Not eligible to drive\")"
   ]
  },
  {
   "cell_type": "code",
   "execution_count": 14,
   "metadata": {},
   "outputs": [
    {
     "name": "stdout",
     "output_type": "stream",
     "text": [
      "Eligible to apply for this job\n"
     ]
    }
   ],
   "source": [
    "#OR operator\n",
    "Department=\"IT\"\n",
    "if Department==\"csc\" or Department==\"IT\" :\n",
    "    print(\"Eligible to apply for this job\")\n",
    "else :\n",
    "    print(\"Not eligible to apply for this job\")"
   ]
  },
  {
   "cell_type": "code",
   "execution_count": 15,
   "metadata": {},
   "outputs": [
    {
     "name": "stdout",
     "output_type": "stream",
     "text": [
      "Name is Shivani\n"
     ]
    }
   ],
   "source": [
    "#NOT operator\n",
    "Name = \"Shivani\"\n",
    "if not Name==\" \":\n",
    "   print(\"Name is Shivani\")"
   ]
  },
  {
   "cell_type": "code",
   "execution_count": 16,
   "metadata": {},
   "outputs": [
    {
     "name": "stdout",
     "output_type": "stream",
     "text": [
      "Eligible\n"
     ]
    }
   ],
   "source": [
    "#Ternary operator\n",
    "message=\"Eligible\" if age>=18 else \"Not Eligible\"\n",
    "print(message)"
   ]
  },
  {
   "cell_type": "markdown",
   "metadata": {},
   "source": [
    "# For Loop"
   ]
  },
  {
   "cell_type": "code",
   "execution_count": 17,
   "metadata": {},
   "outputs": [
    {
     "name": "stdout",
     "output_type": "stream",
     "text": [
      "p\n",
      "y\n",
      "t\n",
      "h\n",
      "o\n",
      "n\n"
     ]
    }
   ],
   "source": [
    "for x in \"python\":\n",
    "    print(x)\n"
   ]
  },
  {
   "cell_type": "code",
   "execution_count": 18,
   "metadata": {},
   "outputs": [
    {
     "name": "stdout",
     "output_type": "stream",
     "text": [
      "0\n",
      "1\n",
      "2\n",
      "3\n",
      "4\n"
     ]
    }
   ],
   "source": [
    "#Loop over squence of numbers\n",
    "for x in range(5):\n",
    "   print(x)"
   ]
  },
  {
   "cell_type": "code",
   "execution_count": 19,
   "metadata": {},
   "outputs": [
    {
     "name": "stdout",
     "output_type": "stream",
     "text": [
      "2\n",
      "3\n",
      "4\n",
      "5\n"
     ]
    }
   ],
   "source": [
    "for y in range(2,6):\n",
    "   print(y)"
   ]
  },
  {
   "cell_type": "code",
   "execution_count": 20,
   "metadata": {},
   "outputs": [
    {
     "name": "stdout",
     "output_type": "stream",
     "text": [
      "0\n",
      "2\n",
      "4\n",
      "6\n",
      "8\n"
     ]
    }
   ],
   "source": [
    "#2 means the multiples\n",
    "for z in range(0,10,2): \n",
    "   print(z)"
   ]
  },
  {
   "cell_type": "code",
   "execution_count": 21,
   "metadata": {},
   "outputs": [
    {
     "name": "stdout",
     "output_type": "stream",
     "text": [
      "(0,0)\n",
      "(0,1)\n",
      "(0,2)\n",
      "(1,0)\n",
      "(1,1)\n",
      "(1,2)\n",
      "(2,0)\n",
      "(2,1)\n",
      "(2,2)\n",
      "(3,0)\n",
      "(3,1)\n",
      "(3,2)\n"
     ]
    }
   ],
   "source": [
    "#Nested loops\n",
    "for x in range(4):\n",
    "    for y in range(3):\n",
    "        print(f'({x},{y})')"
   ]
  },
  {
   "cell_type": "markdown",
   "metadata": {},
   "source": [
    "# whileloop"
   ]
  },
  {
   "cell_type": "code",
   "execution_count": 22,
   "metadata": {},
   "outputs": [
    {
     "name": "stdout",
     "output_type": "stream",
     "text": [
      "1\n",
      "2\n",
      "3\n",
      "4\n",
      "5\n",
      "Done\n"
     ]
    }
   ],
   "source": [
    "i=1\n",
    "while i<=5:\n",
    "   print(i)\n",
    "   i=i+1\n",
    "print(\"Done\")"
   ]
  },
  {
   "cell_type": "markdown",
   "metadata": {},
   "source": [
    "# List"
   ]
  },
  {
   "cell_type": "code",
   "execution_count": 23,
   "metadata": {},
   "outputs": [],
   "source": [
    "#written in square brackets\n",
    "#ordered\n",
    "#accessed via index\n",
    "#Collection of elements\n",
    "#preferred for order data\n",
    "#allows duplicate members\n"
   ]
  },
  {
   "cell_type": "code",
   "execution_count": 24,
   "metadata": {},
   "outputs": [
    {
     "name": "stdout",
     "output_type": "stream",
     "text": [
      "[0, 0, 0, 0, 0, 0, 0, 0, 0, 0]\n",
      "[0, 0, 0, 0, 0, 0, 0, 0, 0, 0, 'a', 'b', 'c']\n"
     ]
    }
   ],
   "source": [
    "Letters=['a','b','c']\n",
    "\n",
    "#To print multiple 0\n",
    "zeros=[0] * 10\n",
    "print(zeros)\n",
    "\n",
    "c= zeros+Letters\n",
    "print(c)"
   ]
  },
  {
   "cell_type": "code",
   "execution_count": 25,
   "metadata": {},
   "outputs": [
    {
     "name": "stdout",
     "output_type": "stream",
     "text": [
      "[0, 1, 2, 3, 4, 5, 6, 7, 8, 9, 10, 11, 12, 13, 14, 15, 16, 17, 18, 19]\n",
      "['P', 'y', 't', 'h', 'o', 'n', ' ', 'P', 'r', 'o', 'g', 'r', 'a', 'm', 'm', 'i', 'n', 'g']\n"
     ]
    }
   ],
   "source": [
    "# Iteration list\n",
    "numbers=list(range(20))\n",
    "print(numbers)\n",
    "chars=list(\"Python Programming\")\n",
    "print(chars)"
   ]
  },
  {
   "cell_type": "code",
   "execution_count": 26,
   "metadata": {},
   "outputs": [
    {
     "name": "stdout",
     "output_type": "stream",
     "text": [
      "['C', 'C++', 'Java', 'Python', 'Perl', 'PHP']\n",
      "Java\n",
      "PHP\n"
     ]
    }
   ],
   "source": [
    "#Accessing Items\n",
    "\n",
    "courses=['C','C++','Java','Python','Perl','PHP']\n",
    "\n",
    "print (courses)\n",
    "print (courses[2])\n",
    "print (courses[-1])"
   ]
  },
  {
   "cell_type": "code",
   "execution_count": 27,
   "metadata": {},
   "outputs": [
    {
     "name": "stdout",
     "output_type": "stream",
     "text": [
      "['C', 'C++', 'Java']\n",
      "['C', 'C++']\n",
      "['Java', 'Python', 'Perl', 'PHP']\n",
      "['C', 'C++', 'Java', 'Python', 'Perl', 'PHP']\n"
     ]
    }
   ],
   "source": [
    "#Slicing index\n",
    "print (courses[0:3])\n",
    "print (courses[:2])\n",
    "print (courses[2:])\n",
    "print (courses[:])"
   ]
  },
  {
   "cell_type": "code",
   "execution_count": 28,
   "metadata": {},
   "outputs": [
    {
     "name": "stdout",
     "output_type": "stream",
     "text": [
      "['C', '.Net', 'Java', 'Python', 'Perl', 'PHP']\n"
     ]
    }
   ],
   "source": [
    "# to modify items\n",
    "courses[1]=\".Net\"\n",
    "print (courses)"
   ]
  },
  {
   "cell_type": "code",
   "execution_count": 29,
   "metadata": {},
   "outputs": [
    {
     "name": "stdout",
     "output_type": "stream",
     "text": [
      "[0, 2, 4, 6, 8, 10, 12, 14, 16, 18]\n"
     ]
    }
   ],
   "source": [
    "#to display every alternate items\n",
    "numbers = list(range(20))\n",
    "print(numbers[::2])"
   ]
  },
  {
   "cell_type": "code",
   "execution_count": 30,
   "metadata": {},
   "outputs": [
    {
     "name": "stdout",
     "output_type": "stream",
     "text": [
      "[19, 18, 17, 16, 15, 14, 13, 12, 11, 10, 9, 8, 7, 6, 5, 4, 3, 2, 1, 0]\n"
     ]
    }
   ],
   "source": [
    "#to display numbers in reverse order\n",
    "print(numbers[::-1])"
   ]
  },
  {
   "cell_type": "markdown",
   "metadata": {},
   "source": [
    "# List methods"
   ]
  },
  {
   "cell_type": "code",
   "execution_count": 31,
   "metadata": {},
   "outputs": [
    {
     "name": "stdout",
     "output_type": "stream",
     "text": [
      "3\n"
     ]
    }
   ],
   "source": [
    "Letters=['a','b','c']\n",
    "print(len(Letters))"
   ]
  },
  {
   "cell_type": "code",
   "execution_count": 32,
   "metadata": {},
   "outputs": [
    {
     "name": "stdout",
     "output_type": "stream",
     "text": [
      "[5, 2, 4, 1, 7, 4, 3]\n"
     ]
    }
   ],
   "source": [
    "numbers=[5,2,4,1,7,4]\n",
    "\n",
    "#add items to the end of list\n",
    "numbers.append(3)\n",
    "print (numbers)"
   ]
  },
  {
   "cell_type": "code",
   "execution_count": 33,
   "metadata": {},
   "outputs": [
    {
     "name": "stdout",
     "output_type": "stream",
     "text": [
      "[5, 6, 2, 4, 1, 7, 4, 3]\n"
     ]
    }
   ],
   "source": [
    "#add items based on index\n",
    "numbers.insert(1,6)# 1 is index 6 is number\n",
    "print (numbers)"
   ]
  },
  {
   "cell_type": "code",
   "execution_count": 34,
   "metadata": {},
   "outputs": [
    {
     "name": "stdout",
     "output_type": "stream",
     "text": [
      "1\n"
     ]
    }
   ],
   "source": [
    "#Finding items\n",
    "print (numbers.index(6))#index position of the number"
   ]
  },
  {
   "cell_type": "code",
   "execution_count": 35,
   "metadata": {},
   "outputs": [
    {
     "name": "stdout",
     "output_type": "stream",
     "text": [
      "5\n"
     ]
    }
   ],
   "source": [
    "# if items doesnt exist\n",
    "if 7 in numbers:\n",
    "    print(numbers.index(7))\n",
    "else:\n",
    "    print(\"number 10 not in list\")"
   ]
  },
  {
   "cell_type": "code",
   "execution_count": 36,
   "metadata": {},
   "outputs": [
    {
     "name": "stdout",
     "output_type": "stream",
     "text": [
      "False\n",
      "True\n"
     ]
    }
   ],
   "source": [
    "print (10 in numbers)# False\n",
    "print (5 in numbers)# True"
   ]
  },
  {
   "cell_type": "code",
   "execution_count": 37,
   "metadata": {},
   "outputs": [
    {
     "name": "stdout",
     "output_type": "stream",
     "text": [
      "[5, 6, 2, 4, 1, 7, 4, 3]\n"
     ]
    }
   ],
   "source": [
    "list1= numbers.copy()\n",
    "print(list1)"
   ]
  },
  {
   "cell_type": "code",
   "execution_count": 38,
   "metadata": {},
   "outputs": [
    {
     "name": "stdout",
     "output_type": "stream",
     "text": [
      "[5, 6, 2, 4, 1, 7, 4]\n",
      "[5, 2, 4, 1, 7, 4]\n"
     ]
    }
   ],
   "source": [
    "# last item is removed\n",
    "numbers.pop()\n",
    "print(numbers)\n",
    "# index item is removed\n",
    "numbers.pop(1)\n",
    "print (numbers)"
   ]
  },
  {
   "cell_type": "code",
   "execution_count": 39,
   "metadata": {},
   "outputs": [
    {
     "name": "stdout",
     "output_type": "stream",
     "text": [
      "[5, 4, 1, 7, 4]\n"
     ]
    }
   ],
   "source": [
    "numbers.remove(2)\n",
    "print (numbers)"
   ]
  },
  {
   "cell_type": "code",
   "execution_count": 40,
   "metadata": {},
   "outputs": [
    {
     "name": "stdout",
     "output_type": "stream",
     "text": [
      "['a', 'c', 'd', 'e', 'f', 'b']\n"
     ]
    }
   ],
   "source": [
    "# to remove the first instance of b\n",
    "letters=['a','b','c','d','e','f','b']\n",
    "letters.remove('b')\n",
    "print (letters)"
   ]
  },
  {
   "cell_type": "code",
   "execution_count": 41,
   "metadata": {},
   "outputs": [
    {
     "name": "stdout",
     "output_type": "stream",
     "text": [
      "['d', 'e', 'f', 'b']\n"
     ]
    }
   ],
   "source": [
    "# to delete items\n",
    "#del letters('c')\n",
    "del letters[0:2]\n",
    "print (letters)"
   ]
  },
  {
   "cell_type": "code",
   "execution_count": 42,
   "metadata": {},
   "outputs": [
    {
     "name": "stdout",
     "output_type": "stream",
     "text": [
      "a\n",
      "b\n",
      "c\n"
     ]
    }
   ],
   "source": [
    "#Loop over list\n",
    "for x in ['a','b','c']:\n",
    "    print(x)\n"
   ]
  },
  {
   "cell_type": "code",
   "execution_count": 43,
   "metadata": {},
   "outputs": [
    {
     "name": "stdout",
     "output_type": "stream",
     "text": [
      "Not Available\n",
      "Not Available\n",
      "Available\n"
     ]
    }
   ],
   "source": [
    "courses=[\"C\",\"C++\",\"perl\",\"python\"]\n",
    "for course in courses:\n",
    "    if course.startswith(\"p\"):\n",
    "        print(\"Available\")\n",
    "        break\n",
    "    else:\n",
    "        print(\"Not Available\")"
   ]
  },
  {
   "cell_type": "code",
   "execution_count": 44,
   "metadata": {},
   "outputs": [
    {
     "name": "stdout",
     "output_type": "stream",
     "text": [
      "[3, 5, 19, 23, 34, 80]\n"
     ]
    }
   ],
   "source": [
    "#Sorting list\n",
    "numbers=[5,19,3,34,23,80]\n",
    "numbers.sort()\n",
    "print (numbers)"
   ]
  },
  {
   "cell_type": "code",
   "execution_count": 45,
   "metadata": {},
   "outputs": [
    {
     "name": "stdout",
     "output_type": "stream",
     "text": [
      "[80, 34, 23, 19, 5, 3]\n"
     ]
    }
   ],
   "source": [
    "#Sorting list in descending order\n",
    "numbers.sort(reverse=True)\n",
    "print (numbers)"
   ]
  },
  {
   "cell_type": "code",
   "execution_count": 46,
   "metadata": {},
   "outputs": [
    {
     "data": {
      "text/plain": [
       "[80, 34, 23, 19, 5, 3]"
      ]
     },
     "execution_count": 46,
     "metadata": {},
     "output_type": "execute_result"
    }
   ],
   "source": [
    "numbers"
   ]
  },
  {
   "cell_type": "code",
   "execution_count": 47,
   "metadata": {},
   "outputs": [
    {
     "name": "stdout",
     "output_type": "stream",
     "text": [
      "[3, 5, 19, 23, 34, 80]\n",
      "[80, 34, 23, 19, 5, 3]\n"
     ]
    }
   ],
   "source": [
    "#Sorted will not change the original list\n",
    "print(sorted(numbers))\n",
    "#print(sorted(numbers,reverse=True))\n",
    "print (numbers)"
   ]
  },
  {
   "cell_type": "code",
   "execution_count": 48,
   "metadata": {},
   "outputs": [
    {
     "name": "stdout",
     "output_type": "stream",
     "text": [
      "0\n",
      "a\n"
     ]
    }
   ],
   "source": [
    "#unpacking items\n",
    "items=(0,\"a\")\n",
    "index,letter=items\n",
    "print(index)\n",
    "print(letter)"
   ]
  },
  {
   "cell_type": "code",
   "execution_count": 49,
   "metadata": {},
   "outputs": [
    {
     "name": "stdout",
     "output_type": "stream",
     "text": [
      "1\n",
      "2\n"
     ]
    }
   ],
   "source": [
    "#Unpacking list\n",
    "numbers=[1,2,3]\n",
    "first,second,third=numbers\n",
    "print(first)\n",
    "print(second)\n"
   ]
  },
  {
   "cell_type": "code",
   "execution_count": 50,
   "metadata": {},
   "outputs": [
    {
     "name": "stdout",
     "output_type": "stream",
     "text": [
      "1 10\n",
      "[2, 3, 4, 5, 6, 7, 8, 9]\n"
     ]
    }
   ],
   "source": [
    "numbers_new=[1,2,3,4,5,6,7,8,9,10]\n",
    "first,*other,last=numbers_new\n",
    "print(first,last)\n",
    "print(other)"
   ]
  },
  {
   "cell_type": "markdown",
   "metadata": {},
   "source": [
    "# Tuples"
   ]
  },
  {
   "cell_type": "markdown",
   "metadata": {},
   "source": [
    "#A tuple is a collection which is ordered \n",
    "#immutable\n",
    "#written with round brackets"
   ]
  },
  {
   "cell_type": "code",
   "execution_count": 51,
   "metadata": {},
   "outputs": [
    {
     "name": "stdout",
     "output_type": "stream",
     "text": [
      "(1, 2, 3)\n"
     ]
    }
   ],
   "source": [
    "my_tuple = (1, 2, 3)\n",
    "print(my_tuple)   "
   ]
  },
  {
   "cell_type": "code",
   "execution_count": 52,
   "metadata": {},
   "outputs": [
    {
     "name": "stdout",
     "output_type": "stream",
     "text": [
      "(20, 'python', 6.5)\n"
     ]
    }
   ],
   "source": [
    "# tuple with mixed datatypes\n",
    "my_tuple = (20, \"python\", 6.5)\n",
    "print(my_tuple)  "
   ]
  },
  {
   "cell_type": "code",
   "execution_count": 53,
   "metadata": {},
   "outputs": [
    {
     "name": "stdout",
     "output_type": "stream",
     "text": [
      "('python', [3, 7, 6], (5, 4, 3))\n"
     ]
    }
   ],
   "source": [
    "# nested tuple\n",
    "my_tuple = (\"python\", [3, 7, 6], (5, 4, 3))\n",
    "print(my_tuple)\n"
   ]
  },
  {
   "cell_type": "code",
   "execution_count": 54,
   "metadata": {},
   "outputs": [
    {
     "name": "stdout",
     "output_type": "stream",
     "text": [
      "<class 'tuple'>\n"
     ]
    },
    {
     "data": {
      "text/plain": [
       "('welcome',)"
      ]
     },
     "execution_count": 54,
     "metadata": {},
     "output_type": "execute_result"
    }
   ],
   "source": [
    "# Creating a tuple with one element should have a comma\n",
    "my_tuple = (\"welcome\",)  \n",
    "print(type(my_tuple))  # <class 'tuple'> \n",
    "my_tuple"
   ]
  },
  {
   "cell_type": "code",
   "execution_count": 55,
   "metadata": {},
   "outputs": [
    {
     "name": "stdout",
     "output_type": "stream",
     "text": [
      "(6, 'colors', 8.9)\n"
     ]
    }
   ],
   "source": [
    "#tuples packing\n",
    "my_tuple = (6,\"colors\",8.9)\n",
    "print(my_tuple)   \n"
   ]
  },
  {
   "cell_type": "code",
   "execution_count": 56,
   "metadata": {},
   "outputs": [
    {
     "name": "stdout",
     "output_type": "stream",
     "text": [
      "6\n",
      "colors\n",
      "8.9\n"
     ]
    }
   ],
   "source": [
    "# tuple unpacking is also possible\n",
    "x,y,z = my_tuple\n",
    "\n",
    "print(x)      \n",
    "print(y)       \n",
    "print(z)      "
   ]
  },
  {
   "cell_type": "markdown",
   "metadata": {},
   "source": [
    "# Set"
   ]
  },
  {
   "cell_type": "markdown",
   "metadata": {},
   "source": [
    "#collection of unique items with no duplicates\n",
    "#is unordered\n",
    "#is not in sequence\n",
    "#can't access using index\n",
    "\n"
   ]
  },
  {
   "cell_type": "code",
   "execution_count": 57,
   "metadata": {},
   "outputs": [],
   "source": [
    "#To define a set add curly brackets\n",
    "second={1,5,6,7}"
   ]
  },
  {
   "cell_type": "code",
   "execution_count": 58,
   "metadata": {},
   "outputs": [
    {
     "name": "stdout",
     "output_type": "stream",
     "text": [
      "{1, 2, 5, 6, 7}\n"
     ]
    }
   ],
   "source": [
    "#insert item in set\n",
    "second.add(2)\n",
    "print(second)"
   ]
  },
  {
   "cell_type": "code",
   "execution_count": 59,
   "metadata": {},
   "outputs": [
    {
     "name": "stdout",
     "output_type": "stream",
     "text": [
      "{1, 2, 6, 7}\n"
     ]
    }
   ],
   "source": [
    "#to remove a item\n",
    "second.remove(5)\n",
    "print(second)"
   ]
  },
  {
   "cell_type": "code",
   "execution_count": 60,
   "metadata": {},
   "outputs": [
    {
     "name": "stdout",
     "output_type": "stream",
     "text": [
      "4\n"
     ]
    }
   ],
   "source": [
    "print(len(second))"
   ]
  },
  {
   "cell_type": "code",
   "execution_count": 61,
   "metadata": {},
   "outputs": [
    {
     "name": "stdout",
     "output_type": "stream",
     "text": [
      "{1, 2, 3, 4}\n"
     ]
    }
   ],
   "source": [
    "#To remove duplicates\n",
    "numbers =[1,1,2,3,4]\n",
    "first=set(numbers)\n",
    "print(first)"
   ]
  },
  {
   "cell_type": "code",
   "execution_count": 62,
   "metadata": {},
   "outputs": [
    {
     "name": "stdout",
     "output_type": "stream",
     "text": [
      "{1, 2, 3, 4, 6, 7}\n"
     ]
    }
   ],
   "source": [
    "#union of two sets\n",
    "\n",
    "print(first | second)\n"
   ]
  },
  {
   "cell_type": "code",
   "execution_count": 63,
   "metadata": {},
   "outputs": [
    {
     "name": "stdout",
     "output_type": "stream",
     "text": [
      "{1, 2}\n"
     ]
    }
   ],
   "source": [
    "#intersection of two sets\n",
    "print(first & second)"
   ]
  },
  {
   "cell_type": "code",
   "execution_count": 64,
   "metadata": {},
   "outputs": [
    {
     "name": "stdout",
     "output_type": "stream",
     "text": [
      "{3, 4}\n"
     ]
    }
   ],
   "source": [
    "#difference between two sets\n",
    "print(first-second)\n"
   ]
  },
  {
   "cell_type": "code",
   "execution_count": 65,
   "metadata": {},
   "outputs": [
    {
     "name": "stdout",
     "output_type": "stream",
     "text": [
      "{3, 4, 6, 7}\n"
     ]
    }
   ],
   "source": [
    "#symmetric difference between two sets\n",
    "print(first ^ second)"
   ]
  },
  {
   "cell_type": "code",
   "execution_count": 66,
   "metadata": {},
   "outputs": [
    {
     "name": "stdout",
     "output_type": "stream",
     "text": [
      "yes\n"
     ]
    }
   ],
   "source": [
    "#Check existence in set\n",
    "\n",
    "if 1 in first:\n",
    "   print (\"yes\")"
   ]
  },
  {
   "cell_type": "markdown",
   "metadata": {},
   "source": [
    "# Dictionary"
   ]
  },
  {
   "cell_type": "markdown",
   "metadata": {},
   "source": [
    "#Dictionary is a collection data type which has key value pairs.\n",
    "#it is unordered and stores data like map\n",
    "#it is mutable\n",
    "#indexed\n",
    "#does not have dupliacte numbers\n",
    "#have key value pairs unlike any other datatype\n",
    "#accessed via keys"
   ]
  },
  {
   "cell_type": "code",
   "execution_count": 67,
   "metadata": {},
   "outputs": [],
   "source": [
    "# empty dictionary\n",
    "my_dict = {}"
   ]
  },
  {
   "cell_type": "code",
   "execution_count": 68,
   "metadata": {},
   "outputs": [
    {
     "name": "stdout",
     "output_type": "stream",
     "text": [
      "Red\n"
     ]
    }
   ],
   "source": [
    "# dictionary with integer keys\n",
    "my_dict = {1: 'Red', 2: 'Blue'}\n",
    "print(my_dict[1])"
   ]
  },
  {
   "cell_type": "code",
   "execution_count": 69,
   "metadata": {},
   "outputs": [
    {
     "name": "stdout",
     "output_type": "stream",
     "text": [
      "Shivi\n"
     ]
    }
   ],
   "source": [
    "# dictionary with mixed keys\n",
    "my_dict = {'name': 'Shivi', 1: [2, 4, 3]}\n",
    "print(my_dict['name'])\n"
   ]
  },
  {
   "cell_type": "code",
   "execution_count": 70,
   "metadata": {},
   "outputs": [
    {
     "name": "stdout",
     "output_type": "stream",
     "text": [
      "{'A': 'Welcome', 'B': 'To', 'C': ' C language'}\n"
     ]
    }
   ],
   "source": [
    "# Creating a Nested Dictionary  \n",
    "\n",
    "my_dict = {1: 'Python', 2: 'For',  \n",
    "        3:{'A' : 'Welcome', 'B' : 'To', 'C' : ' C language'}} \n",
    "  \n",
    "print(my_dict[3])  "
   ]
  },
  {
   "cell_type": "code",
   "execution_count": 71,
   "metadata": {},
   "outputs": [
    {
     "name": "stdout",
     "output_type": "stream",
     "text": [
      "{1: 'Python', 2: 'For', 3: {'A': 'Welcome', 'B': 'To', 'C': ' C language'}, 'stud5': 10}\n"
     ]
    }
   ],
   "source": [
    "#To add data to dictionary:\n",
    "my_dict.update({\"stud5\":10})\n",
    "print(my_dict)"
   ]
  },
  {
   "cell_type": "code",
   "execution_count": 72,
   "metadata": {},
   "outputs": [
    {
     "name": "stdout",
     "output_type": "stream",
     "text": [
      "{'stud1': 18, 'stud2': 12, 'stud3': 22, 'stud4': 25}\n"
     ]
    }
   ],
   "source": [
    "#To copy:\n",
    "\n",
    "Dict = {'stud1': 18,'stud2':12,'stud3':22,'stud4':25}\t\n",
    "studentAge=Dict.copy()\n",
    "print(studentAge)"
   ]
  },
  {
   "cell_type": "code",
   "execution_count": 73,
   "metadata": {},
   "outputs": [
    {
     "name": "stdout",
     "output_type": "stream",
     "text": [
      "{1: 'Python', 2: 'For', 'stud5': 10}\n"
     ]
    }
   ],
   "source": [
    "#Delete Keys from the dictionary\n",
    "\n",
    "del my_dict [3]\n",
    "print(my_dict)"
   ]
  },
  {
   "cell_type": "markdown",
   "metadata": {},
   "source": [
    "#Dictionary in-built Functions"
   ]
  },
  {
   "cell_type": "code",
   "execution_count": 74,
   "metadata": {},
   "outputs": [
    {
     "name": "stdout",
     "output_type": "stream",
     "text": [
      "Colors :  2\n"
     ]
    }
   ],
   "source": [
    "#len() Method\n",
    "my_dict = {1: 'Red', 2: 'Blue'}\n",
    "print(\"Colors : \", len (my_dict))"
   ]
  },
  {
   "cell_type": "code",
   "execution_count": 75,
   "metadata": {},
   "outputs": [
    {
     "name": "stdout",
     "output_type": "stream",
     "text": [
      "Type :  <class 'dict'>\n"
     ]
    }
   ],
   "source": [
    "#type() method:\n",
    "print(\"Type : \", type (my_dict))\n"
   ]
  },
  {
   "cell_type": "code",
   "execution_count": 76,
   "metadata": {},
   "outputs": [
    {
     "name": "stdout",
     "output_type": "stream",
     "text": [
      "String type :  {1: 'Red', 2: 'Blue'}\n"
     ]
    }
   ],
   "source": [
    "#String method:\n",
    "print(\"String type : \", str (my_dict))"
   ]
  },
  {
   "cell_type": "markdown",
   "metadata": {},
   "source": [
    "# Functions"
   ]
  },
  {
   "cell_type": "code",
   "execution_count": 77,
   "metadata": {},
   "outputs": [
    {
     "name": "stdout",
     "output_type": "stream",
     "text": [
      "welcome\n"
     ]
    }
   ],
   "source": [
    "def msg():\n",
    "    print(\"welcome\")\n",
    "msg()"
   ]
  },
  {
   "cell_type": "code",
   "execution_count": 78,
   "metadata": {},
   "outputs": [
    {
     "name": "stdout",
     "output_type": "stream",
     "text": [
      "49\n"
     ]
    }
   ],
   "source": [
    "def square(x):\n",
    "    return x*x\n",
    "print(square(7))"
   ]
  },
  {
   "cell_type": "code",
   "execution_count": 79,
   "metadata": {},
   "outputs": [
    {
     "name": "stdout",
     "output_type": "stream",
     "text": [
      "23\n"
     ]
    }
   ],
   "source": [
    "#Arguments in Functions\n",
    "def add(x,y):\n",
    "    print (x+y)\n",
    "add(10,13)"
   ]
  },
  {
   "cell_type": "code",
   "execution_count": 80,
   "metadata": {},
   "outputs": [
    {
     "name": "stdout",
     "output_type": "stream",
     "text": [
      "80\n"
     ]
    }
   ],
   "source": [
    "def multiply(x,y=8):\n",
    "    print (x*y)\n",
    "multiply(10)"
   ]
  },
  {
   "cell_type": "code",
   "execution_count": 81,
   "metadata": {},
   "outputs": [
    {
     "name": "stdout",
     "output_type": "stream",
     "text": [
      "value of x= 4\n",
      "value of y= 2\n",
      "8\n"
     ]
    }
   ],
   "source": [
    "def multiply(x,y=0):\n",
    "    print(\"value of x=\",x)\n",
    "    print(\"value of y=\",y)\n",
    "    \n",
    "    return x*y\n",
    "  \n",
    "print(multiply(y=2,x=4))\n"
   ]
  },
  {
   "cell_type": "markdown",
   "metadata": {},
   "source": [
    "# Lambda functions"
   ]
  },
  {
   "cell_type": "code",
   "execution_count": 82,
   "metadata": {},
   "outputs": [],
   "source": [
    "#Syntax:\n",
    "#lambda arguments : expression"
   ]
  },
  {
   "cell_type": "code",
   "execution_count": 83,
   "metadata": {},
   "outputs": [
    {
     "name": "stdout",
     "output_type": "stream",
     "text": [
      "15\n"
     ]
    }
   ],
   "source": [
    "x = lambda a : a + 10\n",
    "print(x(5))"
   ]
  },
  {
   "cell_type": "code",
   "execution_count": 84,
   "metadata": {},
   "outputs": [
    {
     "name": "stdout",
     "output_type": "stream",
     "text": [
      "13\n"
     ]
    }
   ],
   "source": [
    "x = lambda a, b, c : a + b + c\n",
    "print(x(5, 6, 2))"
   ]
  },
  {
   "cell_type": "code",
   "execution_count": 85,
   "metadata": {},
   "outputs": [
    {
     "name": "stdout",
     "output_type": "stream",
     "text": [
      "343\n"
     ]
    }
   ],
   "source": [
    "g = lambda x: x*x*x \n",
    "print(g(7)) "
   ]
  },
  {
   "cell_type": "code",
   "execution_count": null,
   "metadata": {},
   "outputs": [],
   "source": []
  }
 ],
 "metadata": {
  "kernelspec": {
   "display_name": "Python 3",
   "language": "python",
   "name": "python3"
  },
  "language_info": {
   "codemirror_mode": {
    "name": "ipython",
    "version": 3
   },
   "file_extension": ".py",
   "mimetype": "text/x-python",
   "name": "python",
   "nbconvert_exporter": "python",
   "pygments_lexer": "ipython3",
   "version": "3.7.6"
  }
 },
 "nbformat": 4,
 "nbformat_minor": 4
}
