{
 "cells": [
  {
   "cell_type": "markdown",
   "metadata": {},
   "source": [
    "# Python Programming"
   ]
  },
  {
   "cell_type": "markdown",
   "metadata": {},
   "source": [
    "#Python is a popular programming language. \n",
    "#Python is a great language for the beginner-level programmers.\n",
    "#Python is a high-level, interpreted, interactive, object-oriented scripting language."
   ]
  },
  {
   "cell_type": "markdown",
   "metadata": {},
   "source": [
    "# Python Print Commands"
   ]
  },
  {
   "cell_type": "markdown",
   "metadata": {},
   "source": [
    "Print simple string"
   ]
  },
  {
   "cell_type": "code",
   "execution_count": null,
   "metadata": {},
   "outputs": [],
   "source": [
    "print (\"Welcome to Python Programming\")"
   ]
  },
  {
   "cell_type": "markdown",
   "metadata": {},
   "source": [
    "Print Blank Lines"
   ]
  },
  {
   "cell_type": "code",
   "execution_count": null,
   "metadata": {},
   "outputs": [],
   "source": [
    "print (\"\\n\\n\\n\\n\\n\\n\\n\\n\\n\")"
   ]
  },
  {
   "cell_type": "markdown",
   "metadata": {},
   "source": [
    "Print 5 Blank Lines"
   ]
  },
  {
   "cell_type": "code",
   "execution_count": null,
   "metadata": {},
   "outputs": [],
   "source": [
    "print (5 * \"\\n\")"
   ]
  },
  {
   "cell_type": "markdown",
   "metadata": {},
   "source": [
    "Print end Command"
   ]
  },
  {
   "cell_type": "code",
   "execution_count": null,
   "metadata": {},
   "outputs": [],
   "source": [
    "print (\"Welcome to\", end = ' ') \n",
    "print (\"Python Programming\", end = '!')"
   ]
  },
  {
   "cell_type": "code",
   "execution_count": null,
   "metadata": {},
   "outputs": [],
   "source": [
    "print(range(5))"
   ]
  },
  {
   "cell_type": "code",
   "execution_count": null,
   "metadata": {},
   "outputs": [],
   "source": [
    "print(type(range(5)))"
   ]
  },
  {
   "cell_type": "markdown",
   "metadata": {},
   "source": [
    "# Python Operators"
   ]
  },
  {
   "cell_type": "markdown",
   "metadata": {},
   "source": [
    "Arithmetic Operators perform various arithmetic calculations like addition, subtraction, multiplication, division, %modulus, exponent, etc. "
   ]
  },
  {
   "cell_type": "code",
   "execution_count": null,
   "metadata": {},
   "outputs": [],
   "source": [
    "x= 10\n",
    "y= 5\n",
    "print (x + y)\n",
    "print (x - y)\n",
    "print (x * y)\n",
    "print (x / y)\n",
    "print (x % y)\n",
    "print (x ** y)"
   ]
  },
  {
   "cell_type": "markdown",
   "metadata": {},
   "source": [
    "Comparison Operators compare the values on either side of the operand and determine the relation between them.\n",
    "comparison operators are  ==, != , <, >,<=,<="
   ]
  },
  {
   "cell_type": "code",
   "execution_count": null,
   "metadata": {},
   "outputs": [],
   "source": [
    "x = 20\n",
    "y = 50\n",
    "print('x > y  is',x>y)\n",
    "print('x >= y  is',x>=y)\n",
    "print('x < y  is',x<y)\n",
    "print('x <= y  is',x<=y)\n",
    "print('x == y  is',x==y)\n",
    "print('x != y  is',x!=y)\n",
    "\n",
    "\n"
   ]
  },
  {
   "cell_type": "markdown",
   "metadata": {},
   "source": [
    "Python assignment operators are used for assigning the value of the right operand to the left operand. \n",
    "Various assignment operators used in Python are +=, - = , *=, /= ,="
   ]
  },
  {
   "cell_type": "code",
   "execution_count": null,
   "metadata": {},
   "outputs": [],
   "source": [
    "firstnumber = 13\n",
    "secondnumber = 17\n",
    "print (\"First Number : \", firstnumber)\n",
    "firstnumber *= 10\n",
    "print (\"First Number : \", firstnumber)\n",
    "secondnumber /= 3\n",
    "print(\"Second number :\" , secondnumber)"
   ]
  },
  {
   "cell_type": "markdown",
   "metadata": {},
   "source": [
    "Logical operators in Python are used for conditional statements are true or false.\n",
    "Logical operators in Python are AND, OR and NOT."
   ]
  },
  {
   "cell_type": "code",
   "execution_count": null,
   "metadata": {},
   "outputs": [],
   "source": [
    "x = True\n",
    "y = False\n",
    "print(x and y)\n",
    "print(x or y)\n",
    "print(not x)"
   ]
  },
  {
   "cell_type": "markdown",
   "metadata": {},
   "source": [
    "Membership Operators test for membership in a sequence such as lists, strings or tuples. Membership operators used in Python is  in, not in"
   ]
  },
  {
   "cell_type": "markdown",
   "metadata": {},
   "source": [
    "Identity Operators is to compare the memory location of two objects, The two identify operators used in Python are is, is not."
   ]
  },
  {
   "cell_type": "markdown",
   "metadata": {},
   "source": [
    "# String Functions"
   ]
  },
  {
   "cell_type": "code",
   "execution_count": null,
   "metadata": {},
   "outputs": [],
   "source": [
    "# String Methods\n",
    "message = \"Welcome to python programming\"\n",
    "\n",
    "#print (object.function)\n",
    "print(message.upper())\n",
    "print(message.lower())\n",
    "print(message.title())\n",
    "\n",
    "#Trim methods\n",
    "messagetrim = \"  python programming  \"\n",
    "\n",
    "print(message.strip())\n",
    "print(message.rstrip())\n",
    "print(message.lstrip())\n",
    "\n",
    "print(message.find(\"pro\"))\n",
    "print(message.replace('p','ph'))\n",
    "#membership operator\n",
    "\n",
    "print(\"prog\" in message)\n",
    "print(\"json\" in message)\n",
    "print(\"json\" not in message)"
   ]
  },
  {
   "cell_type": "code",
   "execution_count": null,
   "metadata": {},
   "outputs": [],
   "source": [
    "#Slicing Functions\n",
    "Message = \"Welcome to python programming\"\n",
    "\n",
    "print(len(message))\n",
    "print(message[0])\n",
    "print(message[-1])\n",
    "print(message[0:5])\n",
    "print(message[0:])\n",
    "print(message[:5])\n",
    "print(message[:])"
   ]
  },
  {
   "cell_type": "markdown",
   "metadata": {},
   "source": [
    "# Conditional Statements"
   ]
  },
  {
   "cell_type": "code",
   "execution_count": null,
   "metadata": {},
   "outputs": [],
   "source": [
    "age=20\n",
    "if age>=18 and age<60 :\n",
    "    print(\"Eligible to drive\")\n",
    "else :\n",
    "    print(\"Not eligible to drive\")"
   ]
  },
  {
   "cell_type": "code",
   "execution_count": null,
   "metadata": {},
   "outputs": [],
   "source": [
    "#OR operator\n",
    "Department=\"IT\"\n",
    "if Department==\"csc\" or Department==\"IT\" :\n",
    "    print(\"Eligible to apply for this job\")\n",
    "else :\n",
    "    print(\"Not eligible to apply for this job\")"
   ]
  },
  {
   "cell_type": "code",
   "execution_count": null,
   "metadata": {},
   "outputs": [],
   "source": [
    "#NOT operator\n",
    "Name = \"Shivani\"\n",
    "if not Name==\" \":\n",
    "   print(\"Name is Shivani\")"
   ]
  },
  {
   "cell_type": "code",
   "execution_count": null,
   "metadata": {},
   "outputs": [],
   "source": [
    "#Ternary operator\n",
    "message=\"Eligible\" if age>=18 else \"Not Eligible\"\n",
    "print(message)"
   ]
  },
  {
   "cell_type": "markdown",
   "metadata": {},
   "source": [
    "# For Loop"
   ]
  },
  {
   "cell_type": "code",
   "execution_count": null,
   "metadata": {},
   "outputs": [],
   "source": [
    "for x in \"python\":\n",
    "    print(x)\n"
   ]
  },
  {
   "cell_type": "code",
   "execution_count": null,
   "metadata": {},
   "outputs": [],
   "source": [
    "#Loop over squence of numbers\n",
    "for x in range(5):\n",
    "   print(x)"
   ]
  },
  {
   "cell_type": "code",
   "execution_count": null,
   "metadata": {},
   "outputs": [],
   "source": [
    "for y in range(2,6):\n",
    "   print(y)"
   ]
  },
  {
   "cell_type": "code",
   "execution_count": null,
   "metadata": {},
   "outputs": [],
   "source": [
    "#2 means the multiples\n",
    "for z in range(0,10,2): \n",
    "   print(z)"
   ]
  },
  {
   "cell_type": "code",
   "execution_count": null,
   "metadata": {},
   "outputs": [],
   "source": [
    "#Nested loops\n",
    "for x in range(4):\n",
    "    for y in range(3):\n",
    "        print(f'({x},{y})')"
   ]
  },
  {
   "cell_type": "markdown",
   "metadata": {},
   "source": [
    "# whileloop"
   ]
  },
  {
   "cell_type": "code",
   "execution_count": null,
   "metadata": {},
   "outputs": [],
   "source": [
    "i=1\n",
    "while i<=5:\n",
    "   print(i)\n",
    "   i=i+1\n",
    "print(\"Done\")"
   ]
  },
  {
   "cell_type": "markdown",
   "metadata": {},
   "source": [
    "# List"
   ]
  },
  {
   "cell_type": "code",
   "execution_count": null,
   "metadata": {},
   "outputs": [],
   "source": [
    "#written in square brackets\n",
    "#ordered\n",
    "#accessed via index\n",
    "#Collection of elements\n",
    "#preferred for order data\n",
    "#allows duplicate members\n"
   ]
  },
  {
   "cell_type": "code",
   "execution_count": null,
   "metadata": {},
   "outputs": [],
   "source": [
    "Letters=['a','b','c']\n",
    "\n",
    "#To print multiple 0\n",
    "zeros=[0] * 10\n",
    "print(zeros)\n",
    "\n",
    "c= zeros+Letters\n",
    "print(c)"
   ]
  },
  {
   "cell_type": "code",
   "execution_count": null,
   "metadata": {},
   "outputs": [],
   "source": [
    "# Iteration list\n",
    "numbers=list(range(20))\n",
    "print(numbers)\n",
    "chars=list(\"Python Programming\")\n",
    "print(chars)"
   ]
  },
  {
   "cell_type": "code",
   "execution_count": null,
   "metadata": {},
   "outputs": [],
   "source": [
    "#Accessing Items\n",
    "\n",
    "courses=['C','C++','Java','Python','Perl','PHP']\n",
    "\n",
    "print (courses)\n",
    "print (courses[2])\n",
    "print (courses[-1])"
   ]
  },
  {
   "cell_type": "code",
   "execution_count": null,
   "metadata": {},
   "outputs": [],
   "source": [
    "#Slicing index\n",
    "print (courses[0:3])\n",
    "print (courses[:2])\n",
    "print (courses[2:])\n",
    "print (courses[:])"
   ]
  },
  {
   "cell_type": "code",
   "execution_count": null,
   "metadata": {},
   "outputs": [],
   "source": [
    "# to modify items\n",
    "courses[1]=\".Net\"\n",
    "print (courses)"
   ]
  },
  {
   "cell_type": "code",
   "execution_count": null,
   "metadata": {},
   "outputs": [],
   "source": [
    "#to display every alternate items\n",
    "numbers = list(range(20))\n",
    "print(numbers[::2])"
   ]
  },
  {
   "cell_type": "code",
   "execution_count": null,
   "metadata": {},
   "outputs": [],
   "source": [
    "#to display numbers in reverse order\n",
    "print(numbers[::-1])"
   ]
  },
  {
   "cell_type": "markdown",
   "metadata": {},
   "source": [
    "# List methods"
   ]
  },
  {
   "cell_type": "code",
   "execution_count": null,
   "metadata": {},
   "outputs": [],
   "source": [
    "Letters=['a','b','c']\n",
    "print(len(Letters))"
   ]
  },
  {
   "cell_type": "code",
   "execution_count": null,
   "metadata": {},
   "outputs": [],
   "source": [
    "numbers=[5,2,4,1,7,4]\n",
    "\n",
    "#add items to the end of list\n",
    "numbers.append(3)\n",
    "print (numbers)"
   ]
  },
  {
   "cell_type": "code",
   "execution_count": null,
   "metadata": {},
   "outputs": [],
   "source": [
    "#add items based on index\n",
    "numbers.insert(1,6)# 1 is index 6 is number\n",
    "print (numbers)"
   ]
  },
  {
   "cell_type": "code",
   "execution_count": null,
   "metadata": {},
   "outputs": [],
   "source": [
    "#Finding items\n",
    "print (numbers.index(6))#index position of the number"
   ]
  },
  {
   "cell_type": "code",
   "execution_count": null,
   "metadata": {},
   "outputs": [],
   "source": [
    "# if items doesnt exist\n",
    "if 7 in numbers:\n",
    "    print(numbers.index(7))\n",
    "else:\n",
    "    print(\"number 10 not in list\")"
   ]
  },
  {
   "cell_type": "code",
   "execution_count": null,
   "metadata": {},
   "outputs": [],
   "source": [
    "print (10 in numbers)# False\n",
    "print (5 in numbers)# True"
   ]
  },
  {
   "cell_type": "code",
   "execution_count": null,
   "metadata": {},
   "outputs": [],
   "source": [
    "list1= numbers.copy()\n",
    "print(list1)"
   ]
  },
  {
   "cell_type": "code",
   "execution_count": null,
   "metadata": {},
   "outputs": [],
   "source": [
    "# last item is removed\n",
    "numbers.pop()\n",
    "print(numbers)\n",
    "# index item is removed\n",
    "numbers.pop(1)\n",
    "print (numbers)"
   ]
  },
  {
   "cell_type": "code",
   "execution_count": null,
   "metadata": {},
   "outputs": [],
   "source": [
    "numbers.remove(2)\n",
    "print (numbers)"
   ]
  },
  {
   "cell_type": "code",
   "execution_count": null,
   "metadata": {},
   "outputs": [],
   "source": [
    "# to remove the first instance of b\n",
    "letters=['a','b','c','d','e','f','b']\n",
    "letters.remove('b')\n",
    "print (letters)"
   ]
  },
  {
   "cell_type": "code",
   "execution_count": null,
   "metadata": {},
   "outputs": [],
   "source": [
    "# to delete items\n",
    "#del letters('c')\n",
    "del letters[0:2]\n",
    "print (letters)"
   ]
  },
  {
   "cell_type": "code",
   "execution_count": null,
   "metadata": {},
   "outputs": [],
   "source": [
    "#Loop over list\n",
    "for x in ['a','b','c']:\n",
    "    print(x)\n"
   ]
  },
  {
   "cell_type": "code",
   "execution_count": null,
   "metadata": {},
   "outputs": [],
   "source": [
    "courses=[\"C\",\"C++\",\"perl\",\"python\"]\n",
    "for course in courses:\n",
    "    if course.startswith(\"p\"):\n",
    "        print(\"Available\")\n",
    "        break\n",
    "    else:\n",
    "        print(\"Not Available\")"
   ]
  },
  {
   "cell_type": "code",
   "execution_count": null,
   "metadata": {},
   "outputs": [],
   "source": [
    "#Sorting list\n",
    "numbers=[5,19,3,34,23,80]\n",
    "numbers.sort()\n",
    "print (numbers)"
   ]
  },
  {
   "cell_type": "code",
   "execution_count": null,
   "metadata": {},
   "outputs": [],
   "source": [
    "#Sorting list in descending order\n",
    "numbers.sort(reverse=True)\n",
    "print (numbers)"
   ]
  },
  {
   "cell_type": "code",
   "execution_count": null,
   "metadata": {},
   "outputs": [],
   "source": [
    "numbers"
   ]
  },
  {
   "cell_type": "code",
   "execution_count": null,
   "metadata": {},
   "outputs": [],
   "source": [
    "#Sorted will not change the original list\n",
    "print(sorted(numbers))\n",
    "#print(sorted(numbers,reverse=True))\n",
    "print (numbers)"
   ]
  },
  {
   "cell_type": "code",
   "execution_count": null,
   "metadata": {},
   "outputs": [],
   "source": [
    "#unpacking items\n",
    "items=(0,\"a\")\n",
    "index,letter=items\n",
    "print(index)\n",
    "print(letter)"
   ]
  },
  {
   "cell_type": "code",
   "execution_count": null,
   "metadata": {},
   "outputs": [],
   "source": [
    "#Unpacking list\n",
    "numbers=[1,2,3]\n",
    "first,second,third=numbers\n",
    "print(first)\n",
    "print(second)\n"
   ]
  },
  {
   "cell_type": "code",
   "execution_count": null,
   "metadata": {},
   "outputs": [],
   "source": [
    "numbers_new=[1,2,3,4,5,6,7,8,9,10]\n",
    "first,*other,last=numbers_new\n",
    "print(first,last)\n",
    "print(other)"
   ]
  },
  {
   "cell_type": "markdown",
   "metadata": {},
   "source": [
    "# Tuples"
   ]
  },
  {
   "cell_type": "markdown",
   "metadata": {},
   "source": [
    "#A tuple is a collection which is ordered \n",
    "#immutable\n",
    "#written with round brackets"
   ]
  },
  {
   "cell_type": "code",
   "execution_count": null,
   "metadata": {},
   "outputs": [],
   "source": [
    "my_tuple = (1, 2, 3)\n",
    "print(my_tuple)   "
   ]
  },
  {
   "cell_type": "code",
   "execution_count": null,
   "metadata": {},
   "outputs": [],
   "source": [
    "# tuple with mixed datatypes\n",
    "my_tuple = (20, \"python\", 6.5)\n",
    "print(my_tuple)  "
   ]
  },
  {
   "cell_type": "code",
   "execution_count": null,
   "metadata": {},
   "outputs": [],
   "source": [
    "# nested tuple\n",
    "my_tuple = (\"python\", [3, 7, 6], (5, 4, 3))\n",
    "print(my_tuple)\n"
   ]
  },
  {
   "cell_type": "code",
   "execution_count": null,
   "metadata": {},
   "outputs": [],
   "source": [
    "# Creating a tuple with one element should have a comma\n",
    "my_tuple = (\"welcome\",)  \n",
    "print(type(my_tuple))  # <class 'tuple'> \n",
    "my_tuple"
   ]
  },
  {
   "cell_type": "code",
   "execution_count": null,
   "metadata": {},
   "outputs": [],
   "source": [
    "#tuples packing\n",
    "my_tuple = (6,\"colors\",8.9)\n",
    "print(my_tuple)   \n"
   ]
  },
  {
   "cell_type": "code",
   "execution_count": null,
   "metadata": {},
   "outputs": [],
   "source": [
    "# tuple unpacking is also possible\n",
    "x,y,z = my_tuple\n",
    "\n",
    "print(x)      \n",
    "print(y)       \n",
    "print(z)      "
   ]
  },
  {
   "cell_type": "markdown",
   "metadata": {},
   "source": [
    "# Set"
   ]
  },
  {
   "cell_type": "markdown",
   "metadata": {},
   "source": [
    "#collection of unique items with no duplicates\n",
    "#is unordered\n",
    "#is not in sequence\n",
    "#can't access using index\n",
    "\n"
   ]
  },
  {
   "cell_type": "code",
   "execution_count": null,
   "metadata": {},
   "outputs": [],
   "source": [
    "#To define a set add curly brackets\n",
    "second={1,5,6,7}"
   ]
  },
  {
   "cell_type": "code",
   "execution_count": null,
   "metadata": {},
   "outputs": [],
   "source": [
    "#insert item in set\n",
    "second.add(2)\n",
    "print(second)"
   ]
  },
  {
   "cell_type": "code",
   "execution_count": null,
   "metadata": {},
   "outputs": [],
   "source": [
    "#to remove a item\n",
    "second.remove(5)\n",
    "print(second)"
   ]
  },
  {
   "cell_type": "code",
   "execution_count": null,
   "metadata": {},
   "outputs": [],
   "source": [
    "print(len(second))"
   ]
  },
  {
   "cell_type": "code",
   "execution_count": null,
   "metadata": {},
   "outputs": [],
   "source": [
    "#To remove duplicates\n",
    "numbers =[1,1,2,3,4]\n",
    "first=set(numbers)\n",
    "print(first)"
   ]
  },
  {
   "cell_type": "code",
   "execution_count": null,
   "metadata": {},
   "outputs": [],
   "source": [
    "#union of two sets\n",
    "\n",
    "print(first | second)\n"
   ]
  },
  {
   "cell_type": "code",
   "execution_count": null,
   "metadata": {},
   "outputs": [],
   "source": [
    "#intersection of two sets\n",
    "print(first & second)"
   ]
  },
  {
   "cell_type": "code",
   "execution_count": null,
   "metadata": {},
   "outputs": [],
   "source": [
    "#difference between two sets\n",
    "print(first-second)\n"
   ]
  },
  {
   "cell_type": "code",
   "execution_count": null,
   "metadata": {},
   "outputs": [],
   "source": [
    "#symmetric difference between two sets\n",
    "print(first ^ second)"
   ]
  },
  {
   "cell_type": "code",
   "execution_count": null,
   "metadata": {},
   "outputs": [],
   "source": [
    "#Check existence in set\n",
    "\n",
    "if 1 in first:\n",
    "   print (\"yes\")"
   ]
  },
  {
   "cell_type": "markdown",
   "metadata": {},
   "source": [
    "# Dictionary"
   ]
  },
  {
   "cell_type": "markdown",
   "metadata": {},
   "source": [
    "#Dictionary is a collection data type which has key value pairs.\n",
    "#it is unordered and stores data like map\n",
    "#it is mutable\n",
    "#indexed\n",
    "#does not have dupliacte numbers\n",
    "#have key value pairs unlike any other datatype\n",
    "#accessed via keys"
   ]
  },
  {
   "cell_type": "code",
   "execution_count": null,
   "metadata": {},
   "outputs": [],
   "source": [
    "# empty dictionary\n",
    "my_dict = {}"
   ]
  },
  {
   "cell_type": "code",
   "execution_count": null,
   "metadata": {},
   "outputs": [],
   "source": [
    "# dictionary with integer keys\n",
    "my_dict = {1: 'Red', 2: 'Blue'}\n",
    "print(my_dict[1])"
   ]
  },
  {
   "cell_type": "code",
   "execution_count": null,
   "metadata": {},
   "outputs": [],
   "source": [
    "# dictionary with mixed keys\n",
    "my_dict = {'name': 'Shivi', 1: [2, 4, 3]}\n",
    "print(my_dict['name'])\n"
   ]
  },
  {
   "cell_type": "code",
   "execution_count": null,
   "metadata": {},
   "outputs": [],
   "source": [
    "# Creating a Nested Dictionary  \n",
    "\n",
    "my_dict = {1: 'Python', 2: 'For',  \n",
    "        3:{'A' : 'Welcome', 'B' : 'To', 'C' : ' C language'}} \n",
    "  \n",
    "print(my_dict[3])  "
   ]
  },
  {
   "cell_type": "code",
   "execution_count": null,
   "metadata": {},
   "outputs": [],
   "source": [
    "#To add data to dictionary:\n",
    "my_dict.update({\"stud5\":10})\n",
    "print(my_dict)"
   ]
  },
  {
   "cell_type": "code",
   "execution_count": null,
   "metadata": {},
   "outputs": [],
   "source": [
    "#To copy:\n",
    "\n",
    "Dict = {'stud1': 18,'stud2':12,'stud3':22,'stud4':25}\t\n",
    "studentAge=Dict.copy()\n",
    "print(studentAge)"
   ]
  },
  {
   "cell_type": "code",
   "execution_count": null,
   "metadata": {},
   "outputs": [],
   "source": [
    "#Delete Keys from the dictionary\n",
    "\n",
    "del my_dict [3]\n",
    "print(my_dict)"
   ]
  },
  {
   "cell_type": "markdown",
   "metadata": {},
   "source": [
    "#Dictionary in-built Functions"
   ]
  },
  {
   "cell_type": "code",
   "execution_count": null,
   "metadata": {},
   "outputs": [],
   "source": [
    "#len() Method\n",
    "my_dict = {1: 'Red', 2: 'Blue'}\n",
    "print(\"Colors : \", len (my_dict))"
   ]
  },
  {
   "cell_type": "code",
   "execution_count": null,
   "metadata": {},
   "outputs": [],
   "source": [
    "#type() method:\n",
    "print(\"Type : \", type (my_dict))\n"
   ]
  },
  {
   "cell_type": "code",
   "execution_count": null,
   "metadata": {},
   "outputs": [],
   "source": [
    "#String method:\n",
    "print(\"String type : \", str (my_dict))"
   ]
  },
  {
   "cell_type": "markdown",
   "metadata": {},
   "source": [
    "# Functions"
   ]
  },
  {
   "cell_type": "code",
   "execution_count": null,
   "metadata": {},
   "outputs": [],
   "source": [
    "def msg():\n",
    "    print(\"welcome\")\n",
    "msg()"
   ]
  },
  {
   "cell_type": "code",
   "execution_count": null,
   "metadata": {},
   "outputs": [],
   "source": [
    "def square(x):\n",
    "    return x*x\n",
    "print(square(7))"
   ]
  },
  {
   "cell_type": "code",
   "execution_count": null,
   "metadata": {},
   "outputs": [],
   "source": [
    "#Arguments in Functions\n",
    "def add(x,y):\n",
    "    print (x+y)\n",
    "add(10,13)"
   ]
  },
  {
   "cell_type": "code",
   "execution_count": null,
   "metadata": {},
   "outputs": [],
   "source": [
    "def multiply(x,y=8):\n",
    "    print (x*y)\n",
    "multiply(10)"
   ]
  },
  {
   "cell_type": "code",
   "execution_count": null,
   "metadata": {},
   "outputs": [],
   "source": [
    "def multiply(x,y=0):\n",
    "    print(\"value of x=\",x)\n",
    "    print(\"value of y=\",y)\n",
    "    \n",
    "    return x*y\n",
    "  \n",
    "print(multiply(y=2,x=4))\n"
   ]
  },
  {
   "cell_type": "markdown",
   "metadata": {},
   "source": [
    "# Lambda functions"
   ]
  },
  {
   "cell_type": "code",
   "execution_count": null,
   "metadata": {},
   "outputs": [],
   "source": [
    "#Syntax:\n",
    "#lambda arguments : expression"
   ]
  },
  {
   "cell_type": "code",
   "execution_count": null,
   "metadata": {},
   "outputs": [],
   "source": [
    "x = lambda a : a + 10\n",
    "print(x(5))"
   ]
  },
  {
   "cell_type": "code",
   "execution_count": null,
   "metadata": {},
   "outputs": [],
   "source": [
    "x = lambda a, b, c : a + b + c\n",
    "print(x(5, 6, 2))"
   ]
  },
  {
   "cell_type": "code",
   "execution_count": null,
   "metadata": {},
   "outputs": [],
   "source": [
    "g = lambda x: x*x*x \n",
    "print(g(7)) "
   ]
  },
  {
   "cell_type": "code",
   "execution_count": null,
   "metadata": {},
   "outputs": [],
   "source": []
  }
 ],
 "metadata": {
  "kernelspec": {
   "display_name": "Python 3",
   "language": "python",
   "name": "python3"
  },
  "language_info": {
   "codemirror_mode": {
    "name": "ipython",
    "version": 3
   },
   "file_extension": ".py",
   "mimetype": "text/x-python",
   "name": "python",
   "nbconvert_exporter": "python",
   "pygments_lexer": "ipython3",
   "version": "3.7.6"
  }
 },
 "nbformat": 4,
 "nbformat_minor": 4
}
